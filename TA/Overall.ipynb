{
 "cells": [
  {
   "cell_type": "markdown",
   "metadata": {},
   "source": [
    "# Numerical Calculations - Roots of Equations  \n",
    "\n",
    "By [Mohammad Montazeri](https://t.me/MohammadSaeed, 'Telegram')\n",
    " \n",
    "---\n",
    "\n",
    "### Bisection\n"
   ]
  },
  {
   "cell_type": "code",
   "execution_count": 22,
   "metadata": {},
   "outputs": [
    {
     "name": "stdout",
     "output_type": "stream",
     "text": [
      "The approximate root is found as: 0.5482181549072266\n"
     ]
    }
   ],
   "source": [
    "from sympy import *\n",
    "\n",
    "x = symbols('x')\n",
    "\n",
    "\n",
    "def main():\n",
    "    expression_str = input(\"f(x) = \")\n",
    "\n",
    "    try:\n",
    "        expression = eval(expression_str)\n",
    "        Bisection(lambda s: expression.subs(x, s))\n",
    "    except Exception as e:\n",
    "        print('your input is not in correct format:', e)\n",
    "\n",
    "\n",
    "def Bisection(eq):\n",
    "    bounds = eval(input(\"please enter the initial points: (xl, xu) : \"))\n",
    "    xl, xu = bounds\n",
    "\n",
    "    if eq(xl) * eq(xu) > 0:\n",
    "        raise ValueError(\n",
    "            \"This algorithm can not find any root between the specified points\")\n",
    "\n",
    "    e_threshold = 10**-5\n",
    "    for i in range(1, 1000):\n",
    "        xm = (xu + xl)/2\n",
    "        e_relative = abs((xu - xl) / (xu + xl))\n",
    "\n",
    "        if eq(xm) == 0:\n",
    "            print(f\"The exact root is found as: {xm}\")\n",
    "            return True\n",
    "        elif e_relative < e_threshold:\n",
    "            print(f\"The approximate root is found as: {xm}\")\n",
    "            return True\n",
    "        elif eq(xl) * eq(xm) >= 0:\n",
    "            xl = xm\n",
    "        else:\n",
    "            xu = xm\n",
    "\n",
    "    print(f\"The best root is found as: {xm}\")\n",
    "\n",
    "\n",
    "main()"
   ]
  },
  {
   "cell_type": "markdown",
   "metadata": {},
   "source": [
    "### False Position "
   ]
  },
  {
   "cell_type": "code",
   "execution_count": 23,
   "metadata": {},
   "outputs": [
    {
     "name": "stdout",
     "output_type": "stream",
     "text": [
      "The root is found as: 0.548217328675245\n"
     ]
    }
   ],
   "source": [
    "from sympy import *\n",
    "\n",
    "x = symbols('x')\n",
    "\n",
    "\n",
    "def main():\n",
    "    expression_str = input(\"f(x) = \")\n",
    "\n",
    "    try:\n",
    "        expression = eval(expression_str)\n",
    "        FalsePosition(lambda s: expression.subs(x, s))\n",
    "    except Exception as e:\n",
    "        print('your input is not in correct format:', e)\n",
    "\n",
    "\n",
    "def FalsePosition(f):\n",
    "    bounds = eval(input(\"please enter the initial points: (xl, xu) : \"))\n",
    "    xl, xu = bounds\n",
    "\n",
    "    if f(xl) * f(xu) > 0:\n",
    "        raise ValueError(\n",
    "            \"This algorithm can not find any root between the specified points\")\n",
    "\n",
    "    e_threshold = 10**-5\n",
    "    il = iu = xm = 0\n",
    "    fu, fl = f(xu).evalf(), f(xl).evalf()\n",
    "\n",
    "    for i in range(1, 1000):\n",
    "        xr = xm\n",
    "        xm = xu - (fu * (xl - xu)) / (fl - fu)\n",
    "        e_relative = abs((xm - xr) / xm)\n",
    "\n",
    "        if f(xm) == 0 or e_relative < e_threshold:\n",
    "            print(f\"The root is found as: {xm}\")\n",
    "            return True\n",
    "        elif f(xl)*f(xm) >= 0:\n",
    "            xl = xm\n",
    "            fl = f(xl).evalf()\n",
    "            il = 0\n",
    "            iu += 1\n",
    "            if iu > 3:\n",
    "                fu /= 2\n",
    "                iu = 0\n",
    "        else:\n",
    "            xu = xm\n",
    "            fu = f(xu).evalf()\n",
    "            iu = 0\n",
    "            il += 1\n",
    "            if il > 3:\n",
    "                fl /= 2\n",
    "                il = 0\n",
    "    print(f\"The best root is found as: {xm}\")\n",
    "\n",
    "\n",
    "main()"
   ]
  },
  {
   "cell_type": "markdown",
   "metadata": {},
   "source": [
    "### Fixed Point Iteration"
   ]
  },
  {
   "cell_type": "code",
   "execution_count": 25,
   "metadata": {},
   "outputs": [
    {
     "name": "stdout",
     "output_type": "stream",
     "text": [
      "criterion passed\n",
      "The root is found as: -0.414511387177748\n"
     ]
    }
   ],
   "source": [
    "from sympy import *\n",
    "\n",
    "x = symbols('x')\n",
    "\n",
    "\n",
    "def main():\n",
    "    expression_str = input(\"if f(x) = x - g(x) = 0 -> then, g(x) : \")\n",
    "\n",
    "    try:\n",
    "        expression = eval(expression_str)\n",
    "        FixedPoint(lambda s: expression.subs(x, s))\n",
    "    except Exception as e:\n",
    "        print('your input is not in correct format:', e)\n",
    "\n",
    "\n",
    "def FixedPoint(g):\n",
    "    x0 = eval(input(\"please enter the initial guess: x0 = \"))\n",
    "    criterion = abs(diff(g(x)).subs(x, x0).evalf())\n",
    "    if criterion <= 1:\n",
    "        print(\"criterion passed\")\n",
    "    else:\n",
    "        raise ValueError(\n",
    "            \"the chosen g(x) causes divergence in fixed point iteration method\")\n",
    "\n",
    "    xr = x0\n",
    "    e_threshold = 10**-5\n",
    "\n",
    "    for i in range(1, 1000):\n",
    "        x_old = xr\n",
    "        xr = g(x_old).evalf()\n",
    "        e_relative = abs((xr - x_old)/xr)\n",
    "\n",
    "        if g(xr) == 0 or e_relative < e_threshold:\n",
    "            print(f\"The root is found as: {xr}\")\n",
    "            return True\n",
    "\n",
    "    print(f\"The best root is found as: {xr}\")\n",
    "\n",
    "\n",
    "main()"
   ]
  },
  {
   "cell_type": "markdown",
   "metadata": {},
   "source": [
    "### Newton Raphson"
   ]
  },
  {
   "cell_type": "code",
   "execution_count": 30,
   "metadata": {},
   "outputs": [
    {
     "name": "stdout",
     "output_type": "stream",
     "text": [
      "The root is found as: 3.00000000000000\n"
     ]
    }
   ],
   "source": [
    "from sympy import *\n",
    "\n",
    "x = symbols('x')\n",
    "\n",
    "\n",
    "def main():\n",
    "    expression_str = input(\"f(x) = \")\n",
    "\n",
    "    try:\n",
    "        expression = eval(expression_str)\n",
    "        NewtonRaphson(expression)\n",
    "    except Exception as e:\n",
    "        print('your input is not in correct format:', e)\n",
    "\n",
    "\n",
    "def NewtonRaphson(function):\n",
    "    def f(s): return function.subs(x, s).evalf()\n",
    "    def fp(s): return function.diff(x).subs(x, s).evalf()\n",
    "\n",
    "    m = int(input(\"deere of multiplicity: m; (enter zero if not known) \"))\n",
    "\n",
    "    if not m:\n",
    "        def fpp(s): return function.diff(x).diff(x).subs(x, s).evalf()\n",
    "\n",
    "    x0 = eval(input(\"please enter the initial guess: x0 = \"))\n",
    "\n",
    "    xr = x0\n",
    "    e_threshold = 10**-5\n",
    "\n",
    "    for i in range(1, 1000):\n",
    "        x_old = xr\n",
    "\n",
    "        if m:\n",
    "            xr = x_old - m*f(x_old)/fp(x_old)\n",
    "        else:\n",
    "            xr = x_old - (f(x_old)*fp(x_old)) / \\\n",
    "                (fp(x_old)**2 - f(x_old)*fpp(x_old))\n",
    "\n",
    "        e_relative = abs((xr - x_old) / xr)\n",
    "\n",
    "        if f(xr) == 0 or e_relative < e_threshold:\n",
    "            print(f\"The root is found as: {xr}\")\n",
    "            return True\n",
    "\n",
    "    print(f\"The best root is found as: {xr}\")\n",
    "\n",
    "\n",
    "main()"
   ]
  },
  {
   "cell_type": "markdown",
   "metadata": {},
   "source": [
    "### Secant"
   ]
  },
  {
   "cell_type": "code",
   "execution_count": 32,
   "metadata": {},
   "outputs": [
    {
     "name": "stdout",
     "output_type": "stream",
     "text": [
      "The root is found as: 3.00054375462160\n"
     ]
    }
   ],
   "source": [
    "from sympy import *\n",
    "\n",
    "x = symbols('x')\n",
    "\n",
    "\n",
    "def main():\n",
    "    expression_str = input(\"f(x) : \")\n",
    "\n",
    "    try:\n",
    "        expression = eval(expression_str)\n",
    "        Secant(lambda s: expression.subs(x, s))\n",
    "    except Exception as e:\n",
    "        print('your input is not in correct format:', e)\n",
    "\n",
    "\n",
    "def Secant(f):\n",
    "    method = int(\n",
    "        input(\"enter 0 for Secant method and 1 for modified Secant method\"))\n",
    "\n",
    "    if method:\n",
    "        x0, x1 = 0, float(input(\"enter the initial point: x0 = \"))\n",
    "        delta = 10**-2\n",
    "    else:\n",
    "        x0, x1 = eval(input(\"enter the initial points: (x0, x1) = \"))\n",
    "\n",
    "    e_threshold = 10**-5\n",
    "\n",
    "    for i in range(1, 1000):\n",
    "        if method:\n",
    "            x2 = x1 - delta*f(x1) / (f(x1+delta) - f(x1))\n",
    "        else:\n",
    "            x2 = x1 - (f(x1) * (x0 - x1)) / (f(x0) - f(x1))\n",
    "\n",
    "        e_relative = abs((x2 - x1)/x2)\n",
    "\n",
    "        if f(x2) == 0 or e_relative < e_threshold:\n",
    "            print(f\"The root is found as: {x2}\")\n",
    "            return True\n",
    "\n",
    "        x0, x1 = x1, x2\n",
    "\n",
    "    print(f\"The best root is found as: {x2}\")\n",
    "\n",
    "\n",
    "main()"
   ]
  },
  {
   "cell_type": "markdown",
   "metadata": {},
   "source": [
    "## System of Nonlinear Equations\n",
    "\n",
    "---\n",
    "\n",
    "### Newton Raphson for System of Equations"
   ]
  },
  {
   "cell_type": "code",
   "execution_count": 33,
   "metadata": {},
   "outputs": [
    {
     "name": "stdout",
     "output_type": "stream",
     "text": [
      "Please enter the initial points one by one: \n",
      "----- iter:1\t max(e_abs):1.17 -----\n",
      "x = 1.54355\n",
      "y = 0.0290323\n",
      "\n",
      "----- iter:2\t max(e_abs):0.194 -----\n",
      "x = 1.39412\n",
      "y = 0.222872\n",
      "\n",
      "----- iter:3\t max(e_abs):0.0217 -----\n",
      "x = 1.37245\n",
      "y = 0.239293\n",
      "\n",
      "----- iter:4\t max(e_abs):0.000389 -----\n",
      "x = 1.37207\n",
      "y = 0.239502\n",
      "\n",
      "----- iter:5\t max(e_abs):1.15E-7 -----\n",
      "x = 1.37207\n",
      "y = 0.239502\n",
      "\n",
      "The answer is found in 5th iteration as:\n",
      "x = 1.37207\n",
      "y = 0.239502\n",
      "\n"
     ]
    },
    {
     "data": {
      "text/plain": [
       "'\\nBest examples:\\n    y+x**2-x-0.75\\n    y+5*x*y-x**2\\n    x0 = y0 = 1.2\\n    The answer is found in 5th iteration as:\\n    x = 1.37207\\n    y = 0.239502\\n\\n    x**2 + y**2 - 25\\n    y**2 - x - 5\\n    x0=3, y0=4\\n    The answer is found in 3th iteration as:\\n    x = 4.00000\\n    y = 3.00000\\n'"
      ]
     },
     "execution_count": 33,
     "metadata": {},
     "output_type": "execute_result"
    }
   ],
   "source": [
    "from sympy import *\n",
    "\n",
    "\n",
    "class systemOfNonlinearEquations():\n",
    "    def __init__(self, max_iter, e_threshold):\n",
    "        self.e_s = e_threshold\n",
    "        self.iterations = max_iter\n",
    "        self.X, self.F, self.J = [], [], []\n",
    "\n",
    "        self.variables = input(\n",
    "            \"Please enter the variables separated by a comma and a space (x, y, z, ...): \").split(', ')\n",
    "        for var in self.variables:\n",
    "            exec(f\"{var} = Symbol('{var}')\")\n",
    "\n",
    "        self.equations = input(\n",
    "            \"Please enter the equations separated by a comma and a space (f, g, h, ...): \").split(', ')\n",
    "        for eq in self.equations:\n",
    "            self.F.append([eval(eq)])\n",
    "        self.F = Matrix(self.F)\n",
    "\n",
    "        print(\"Please enter the initial points one by one: \")\n",
    "        for var in self.variables:\n",
    "            zero = input(f\"{var}0 = \")\n",
    "            self.X.append([float(zero)])\n",
    "\n",
    "        self.len = len(self.variables)\n",
    "        self.JacobianInverse()\n",
    "        self.NewtonRaphson()\n",
    "\n",
    "    def JacobianInverse(self):\n",
    "        for eq in self.equations:\n",
    "            row = []\n",
    "            for var in self.variables:\n",
    "                col = diff(eq, var)\n",
    "                row.append(col)\n",
    "            self.J.append(row)\n",
    "\n",
    "        jacobian = Matrix(self.J)\n",
    "        self.J_inv = jacobian.inv()\n",
    "\n",
    "    def NewtonRaphson(self):\n",
    "        for i in range(1, self.iterations+1):\n",
    "            X_old = Matrix(self.X)\n",
    "            substitutes = {var: value for var, value in zip(self.variables, X_old)}\n",
    "            J_inv = self.J_inv.subs(substitutes).evalf()\n",
    "            F = self.F.subs(substitutes).evalf()\n",
    "            X = X_old - J_inv @ F\n",
    "            e_absolute = abs(X - X_old)\n",
    "            self.X = X\n",
    "            print(f\"----- iter:{i}\\t max(e_abs):{max(e_absolute):.3} -----\")\n",
    "            self.result()\n",
    "\n",
    "            if max(e_absolute) <= self.e_s:\n",
    "                print(f\"The answer is found in {i}th iteration as:\")\n",
    "                self.result()\n",
    "                return X\n",
    "\n",
    "    def result(self):\n",
    "        for var, val in zip(self.variables, self.X):\n",
    "            print(var, \"=\", val.evalf(6))\n",
    "        print()\n",
    "\n",
    "\n",
    "test = systemOfNonlinearEquations(1000, 10**-5)\n",
    "'''\n",
    "Best examples:\n",
    "    y+x**2-x-0.75\n",
    "    y+5*x*y-x**2\n",
    "    x0 = y0 = 1.2\n",
    "    The answer is found in 5th iteration as:\n",
    "    x = 1.37207\n",
    "    y = 0.239502\n",
    "\n",
    "    x**2 + y**2 - 25\n",
    "    y**2 - x - 5\n",
    "    x0=3, y0=4\n",
    "    The answer is found in 3th iteration as:\n",
    "    x = 4.00000\n",
    "    y = 3.00000\n",
    "'''\n"
   ]
  }
 ],
 "metadata": {
  "kernelspec": {
   "display_name": "venv",
   "language": "python",
   "name": "python3"
  },
  "language_info": {
   "codemirror_mode": {
    "name": "ipython",
    "version": 3
   },
   "file_extension": ".py",
   "mimetype": "text/x-python",
   "name": "python",
   "nbconvert_exporter": "python",
   "pygments_lexer": "ipython3",
   "version": "3.11.1"
  }
 },
 "nbformat": 4,
 "nbformat_minor": 2
}
